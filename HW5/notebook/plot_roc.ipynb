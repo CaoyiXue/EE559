{
  "cells": [
    {
      "cell_type": "code",
      "execution_count": null,
      "metadata": {
        "collapsed": false
      },
      "outputs": [],
      "source": [
        "%matplotlib inline"
      ]
    },
    {
      "cell_type": "markdown",
      "metadata": {},
      "source": [
        "\n",
        "# Receiver Operating Characteristic (ROC)\n",
        "\n",
        "Example of Receiver Operating Characteristic (ROC) metric to evaluate\n",
        "classifier output quality.\n",
        "\n",
        "ROC curves typically feature true positive rate on the Y axis, and false\n",
        "positive rate on the X axis. This means that the top left corner of the plot is\n",
        "the \"ideal\" point - a false positive rate of zero, and a true positive rate of\n",
        "one. This is not very realistic, but it does mean that a larger area under the\n",
        "curve (AUC) is usually better.\n",
        "\n",
        "The \"steepness\" of ROC curves is also important, since it is ideal to maximize\n",
        "the true positive rate while minimizing the false positive rate.\n",
        "\n",
        "ROC curves are typically used in binary classification to study the output of\n",
        "a classifier. In order to extend ROC curve and ROC area to multi-label\n",
        "classification, it is necessary to binarize the output. One ROC\n",
        "curve can be drawn per label, but one can also draw a ROC curve by considering\n",
        "each element of the label indicator matrix as a binary prediction\n",
        "(micro-averaging).\n",
        "\n",
        "Another evaluation measure for multi-label classification is\n",
        "macro-averaging, which gives equal weight to the classification of each\n",
        "label.\n",
        "\n",
        "<div class=\"alert alert-info\"><h4>Note</h4><p>See also :func:`sklearn.metrics.roc_auc_score`,\n",
        "             `sphx_glr_auto_examples_model_selection_plot_roc_crossval.py`</p></div>\n"
      ]
    },
    {
      "cell_type": "code",
      "execution_count": 1,
      "metadata": {
        "collapsed": false
      },
      "outputs": [],
      "source": [
        "import numpy as np\n",
        "import matplotlib.pyplot as plt\n",
        "from itertools import cycle\n",
        "\n",
        "from sklearn import svm, datasets\n",
        "from sklearn.metrics import roc_curve, auc\n",
        "from sklearn.model_selection import train_test_split\n",
        "from sklearn.preprocessing import label_binarize\n",
        "from sklearn.multiclass import OneVsRestClassifier\n",
        "from sklearn.metrics import roc_auc_score\n",
        "\n",
        "# Import some data to play with\n",
        "iris = datasets.load_iris()\n",
        "X = iris.data\n",
        "y = iris.target\n",
        "\n",
        "# Binarize the output\n",
        "y = label_binarize(y, classes=[0, 1, 2])\n",
        "n_classes = y.shape[1]\n",
        "\n",
        "# Add noisy features to make the problem harder\n",
        "random_state = np.random.RandomState(0)\n",
        "n_samples, n_features = X.shape\n",
        "X = np.c_[X, random_state.randn(n_samples, 200 * n_features)]\n",
        "\n",
        "# shuffle and split training and test sets\n",
        "X_train, X_test, y_train, y_test = train_test_split(X, y, test_size=0.5, random_state=0)\n",
        "\n",
        "# Learn to predict each class against the other\n",
        "classifier = OneVsRestClassifier(\n",
        "    svm.SVC(kernel=\"linear\", probability=True, random_state=random_state)\n",
        ")\n",
        "y_score = classifier.fit(X_train, y_train).decision_function(X_test)\n",
        "\n",
        "# Compute ROC curve and ROC area for each class\n",
        "fpr = dict()\n",
        "tpr = dict()\n",
        "roc_auc = dict()\n",
        "for i in range(n_classes):\n",
        "    fpr[i], tpr[i], _ = roc_curve(y_test[:, i], y_score[:, i])\n",
        "    roc_auc[i] = auc(fpr[i], tpr[i])\n",
        "\n",
        "# Compute micro-average ROC curve and ROC area\n",
        "fpr[\"micro\"], tpr[\"micro\"], _ = roc_curve(y_test.ravel(), y_score.ravel())\n",
        "roc_auc[\"micro\"] = auc(fpr[\"micro\"], tpr[\"micro\"])"
      ]
    },
    {
      "cell_type": "code",
      "execution_count": 9,
      "metadata": {},
      "outputs": [
        {
          "data": {
            "text/plain": [
              "array([[-0.76301132, -0.36482547,  0.12386354],\n",
              "       [-0.20224493, -0.63144366, -0.16612302],\n",
              "       [ 0.11801481, -0.80263073, -0.32055874],\n",
              "       [-0.90780855, -0.12395478,  0.02199789],\n",
              "       [-0.01116192, -0.27913475, -0.71889214],\n",
              "       [-0.6048727 , -0.34730509, -0.05859016],\n",
              "       [ 0.02283491, -0.24506467, -0.79111998],\n",
              "       [-0.61076876,  0.18264917, -0.57199363],\n",
              "       [-0.37572754, -0.24059516, -0.38933694],\n",
              "       [-0.47017411, -0.25745136, -0.27510839],\n",
              "       [-0.42224234, -0.30270719, -0.27995197],\n",
              "       [-0.3355867 , -0.7030665 ,  0.02530178],\n",
              "       [-0.22723929, -0.64062258, -0.13456902],\n",
              "       [-0.07856729, -0.46354017, -0.45918364],\n",
              "       [-0.53383361, -0.2653183 , -0.20023832],\n",
              "       [ 0.12163662, -0.56706353, -0.56980985],\n",
              "       [-0.71356947, -0.04226738, -0.24297128],\n",
              "       [-0.55111511, -0.13784913, -0.31370595],\n",
              "       [ 0.37991331, -0.99673302, -0.39090964],\n",
              "       [-0.11107635, -0.91349462,  0.03129167],\n",
              "       [-0.70713712, -0.06436533, -0.21423788],\n",
              "       [-0.02392675, -0.45906496, -0.51922684],\n",
              "       [-0.25045747, -0.80086123,  0.04121338],\n",
              "       [ 0.12675547, -0.70985659, -0.41072849],\n",
              "       [-0.68210402, -0.20735021, -0.12051204],\n",
              "       [-0.08001795, -0.36698232, -0.57704892],\n",
              "       [-0.03259341, -0.1159895 , -0.86493066],\n",
              "       [-0.04953425, -0.73611276, -0.21682409],\n",
              "       [-0.12974835, -0.37676258, -0.49997476],\n",
              "       [-0.19299299, -0.71078341, -0.11058011],\n",
              "       [-0.3619768 , -0.41408367, -0.22759345],\n",
              "       [-0.22818639, -0.78971942,  0.02046723],\n",
              "       [-0.06196433, -0.47617037, -0.45379557],\n",
              "       [-0.52455061, -0.46507392, -0.00375631],\n",
              "       [-0.40026409, -0.71470221,  0.10106561],\n",
              "       [-0.35056585, -0.31125083, -0.34020065],\n",
              "       [-0.05770139, -0.51388968, -0.41776502],\n",
              "       [-1.11907501, -0.0074193 ,  0.12967625],\n",
              "       [ 0.19599366, -0.65773489, -0.54610377],\n",
              "       [-0.04299172, -0.60049718, -0.35901924],\n",
              "       [-0.48108269, -0.21918849, -0.30065047],\n",
              "       [ 0.1741885 , -1.0107504 , -0.181261  ],\n",
              "       [-0.41416456, -0.60044961,  0.00856393],\n",
              "       [-0.01053513, -0.7579771 , -0.2292247 ],\n",
              "       [ 0.01645355, -0.81552421, -0.2039252 ],\n",
              "       [-0.11932181, -0.84787471, -0.05831557],\n",
              "       [-0.70817199, -0.2863326 , -0.01186087],\n",
              "       [-0.77303401, -0.43228203,  0.21326435],\n",
              "       [-0.61489613, -0.15060119, -0.23302033],\n",
              "       [-0.96334774, -0.62804881,  0.58423201],\n",
              "       [-0.31037723, -0.29572764, -0.39404258],\n",
              "       [-0.31952657, -0.34638653, -0.32086131],\n",
              "       [-0.35306417, -0.66917752,  0.00767521],\n",
              "       [ 0.12127427, -0.62483455, -0.50550427],\n",
              "       [-0.6643231 , -0.11456775, -0.21298739],\n",
              "       [-0.55149778, -0.34855346, -0.10551977],\n",
              "       [-0.55695146, -0.13384038, -0.30613086],\n",
              "       [-0.41111447, -0.52487765, -0.07455313],\n",
              "       [-0.49463336, -0.23331763, -0.27802284],\n",
              "       [ 0.06910059, -0.85448531, -0.21662877],\n",
              "       [-0.23036784, -0.48759987, -0.28317657],\n",
              "       [ 0.30342285, -0.83392076, -0.47754831],\n",
              "       [ 0.17642852, -0.81597935, -0.3755452 ],\n",
              "       [-0.1906155 , -0.70826295, -0.10238744],\n",
              "       [-0.42910413, -0.39894364, -0.1693745 ],\n",
              "       [-0.67759563,  0.09194626, -0.3995789 ],\n",
              "       [-0.32958811, -0.56572577, -0.12075396],\n",
              "       [-0.97119543, -0.46484965,  0.41477557],\n",
              "       [ 0.02088168, -0.56912947, -0.44616888],\n",
              "       [-0.08177305, -0.5611945 , -0.35229343],\n",
              "       [-0.41466962, -0.63705856,  0.04838688],\n",
              "       [-0.30436228, -0.08425378, -0.61864694],\n",
              "       [ 0.18869727, -0.8879586 , -0.29713077],\n",
              "       [ 0.24966175, -0.80507517, -0.44324457],\n",
              "       [-0.39980476, -0.29016769, -0.30413406]])"
            ]
          },
          "execution_count": 9,
          "metadata": {},
          "output_type": "execute_result"
        }
      ],
      "source": [
        "y_score"
      ]
    },
    {
      "cell_type": "markdown",
      "metadata": {},
      "source": [
        "Plot of a ROC curve for a specific class\n",
        "\n"
      ]
    },
    {
      "cell_type": "code",
      "execution_count": null,
      "metadata": {
        "collapsed": false
      },
      "outputs": [],
      "source": [
        "plt.figure()\n",
        "lw = 2\n",
        "plt.plot(\n",
        "    fpr[2],\n",
        "    tpr[2],\n",
        "    color=\"darkorange\",\n",
        "    lw=lw,\n",
        "    label=\"ROC curve (area = %0.2f)\" % roc_auc[2],\n",
        ")\n",
        "plt.plot([0, 1], [0, 1], color=\"navy\", lw=lw, linestyle=\"--\")\n",
        "plt.xlim([0.0, 1.0])\n",
        "plt.ylim([0.0, 1.05])\n",
        "plt.xlabel(\"False Positive Rate\")\n",
        "plt.ylabel(\"True Positive Rate\")\n",
        "plt.title(\"Receiver operating characteristic example\")\n",
        "plt.legend(loc=\"lower right\")\n",
        "plt.show()"
      ]
    },
    {
      "cell_type": "markdown",
      "metadata": {},
      "source": [
        "## Plot ROC curves for the multiclass problem\n",
        "Compute macro-average ROC curve and ROC area\n",
        "\n"
      ]
    },
    {
      "cell_type": "code",
      "execution_count": null,
      "metadata": {
        "collapsed": false
      },
      "outputs": [],
      "source": [
        "# First aggregate all false positive rates\n",
        "all_fpr = np.unique(np.concatenate([fpr[i] for i in range(n_classes)]))\n",
        "\n",
        "# Then interpolate all ROC curves at this points\n",
        "mean_tpr = np.zeros_like(all_fpr)\n",
        "for i in range(n_classes):\n",
        "    mean_tpr += np.interp(all_fpr, fpr[i], tpr[i])\n",
        "\n",
        "# Finally average it and compute AUC\n",
        "mean_tpr /= n_classes\n",
        "\n",
        "fpr[\"macro\"] = all_fpr\n",
        "tpr[\"macro\"] = mean_tpr\n",
        "roc_auc[\"macro\"] = auc(fpr[\"macro\"], tpr[\"macro\"])\n",
        "\n",
        "# Plot all ROC curves\n",
        "plt.figure()\n",
        "plt.plot(\n",
        "    fpr[\"micro\"],\n",
        "    tpr[\"micro\"],\n",
        "    label=\"micro-average ROC curve (area = {0:0.2f})\".format(roc_auc[\"micro\"]),\n",
        "    color=\"deeppink\",\n",
        "    linestyle=\":\",\n",
        "    linewidth=4,\n",
        ")\n",
        "\n",
        "plt.plot(\n",
        "    fpr[\"macro\"],\n",
        "    tpr[\"macro\"],\n",
        "    label=\"macro-average ROC curve (area = {0:0.2f})\".format(roc_auc[\"macro\"]),\n",
        "    color=\"navy\",\n",
        "    linestyle=\":\",\n",
        "    linewidth=4,\n",
        ")\n",
        "\n",
        "colors = cycle([\"aqua\", \"darkorange\", \"cornflowerblue\"])\n",
        "for i, color in zip(range(n_classes), colors):\n",
        "    plt.plot(\n",
        "        fpr[i],\n",
        "        tpr[i],\n",
        "        color=color,\n",
        "        lw=lw,\n",
        "        label=\"ROC curve of class {0} (area = {1:0.2f})\".format(i, roc_auc[i]),\n",
        "    )\n",
        "\n",
        "plt.plot([0, 1], [0, 1], \"k--\", lw=lw)\n",
        "plt.xlim([0.0, 1.0])\n",
        "plt.ylim([0.0, 1.05])\n",
        "plt.xlabel(\"False Positive Rate\")\n",
        "plt.ylabel(\"True Positive Rate\")\n",
        "plt.title(\"Some extension of Receiver operating characteristic to multiclass\")\n",
        "plt.legend(loc=\"lower right\")\n",
        "plt.show()"
      ]
    },
    {
      "cell_type": "markdown",
      "metadata": {},
      "source": [
        "## Area under ROC for the multiclass problem\n",
        "The :func:`sklearn.metrics.roc_auc_score` function can be used for\n",
        "multi-class classification. The multi-class One-vs-One scheme compares every\n",
        "unique pairwise combination of classes. In this section, we calculate the AUC\n",
        "using the OvR and OvO schemes. We report a macro average, and a\n",
        "prevalence-weighted average.\n",
        "\n"
      ]
    },
    {
      "cell_type": "code",
      "execution_count": null,
      "metadata": {
        "collapsed": false
      },
      "outputs": [],
      "source": [
        "y_prob = classifier.predict_proba(X_test)\n",
        "\n",
        "macro_roc_auc_ovo = roc_auc_score(y_test, y_prob, multi_class=\"ovo\", average=\"macro\")\n",
        "weighted_roc_auc_ovo = roc_auc_score(\n",
        "    y_test, y_prob, multi_class=\"ovo\", average=\"weighted\"\n",
        ")\n",
        "macro_roc_auc_ovr = roc_auc_score(y_test, y_prob, multi_class=\"ovr\", average=\"macro\")\n",
        "weighted_roc_auc_ovr = roc_auc_score(\n",
        "    y_test, y_prob, multi_class=\"ovr\", average=\"weighted\"\n",
        ")\n",
        "print(\n",
        "    \"One-vs-One ROC AUC scores:\\n{:.6f} (macro),\\n{:.6f} \"\n",
        "    \"(weighted by prevalence)\".format(macro_roc_auc_ovo, weighted_roc_auc_ovo)\n",
        ")\n",
        "print(\n",
        "    \"One-vs-Rest ROC AUC scores:\\n{:.6f} (macro),\\n{:.6f} \"\n",
        "    \"(weighted by prevalence)\".format(macro_roc_auc_ovr, weighted_roc_auc_ovr)\n",
        ")"
      ]
    }
  ],
  "metadata": {
    "kernelspec": {
      "display_name": "Python 3.9.12 ('torchenv')",
      "language": "python",
      "name": "python3"
    },
    "language_info": {
      "codemirror_mode": {
        "name": "ipython",
        "version": 3
      },
      "file_extension": ".py",
      "mimetype": "text/x-python",
      "name": "python",
      "nbconvert_exporter": "python",
      "pygments_lexer": "ipython3",
      "version": "3.9.12"
    },
    "vscode": {
      "interpreter": {
        "hash": "c71e970b376e5910de56d332af36cb508b823811ace826c2f1193ceeb2dcc3e7"
      }
    }
  },
  "nbformat": 4,
  "nbformat_minor": 0
}
