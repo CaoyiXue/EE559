{
 "cells": [
  {
   "cell_type": "markdown",
   "metadata": {},
   "source": [
    "## Function"
   ]
  },
  {
   "cell_type": "code",
   "execution_count": 1,
   "metadata": {},
   "outputs": [
    {
     "name": "stdout",
     "output_type": "stream",
     "text": [
      "Program starts\n",
      "Hi Peter\n",
      "Nice to see you again!\n",
      "Enjoy our video!\n",
      "Hi Sarah\n",
      "Nice to see you again!\n",
      "Enjoy our video!\n",
      "Hi Dominque\n",
      "Nice to see you again!\n",
      "Enjoy our video!\n"
     ]
    }
   ],
   "source": [
    "def greet(name):\n",
    "    print(\"Hi \" + name)\n",
    "    print(\"Nice to see you again!\")\n",
    "    print(\"Enjoy our video!\")\n",
    "\n",
    "print(\"Program starts\")\n",
    "greet(\"Peter\")         \n",
    "# some lines of codes\n",
    "the_answer = 42 \n",
    "greet(\"Sarah\")      \n",
    "width, length = 3, 4\n",
    "area = width * length\n",
    "greet(\"Dominque\")"
   ]
  },
  {
   "cell_type": "code",
   "execution_count": 2,
   "metadata": {},
   "outputs": [
    {
     "name": "stdout",
     "output_type": "stream",
     "text": [
      "Program starts!\n",
      "140185048377712\n",
      "140185048377776\n",
      "140185048378128\n",
      "Result of function call: 16\n",
      "140185048377712, 140185048377776\n",
      "140185048377744\n",
      "140185048377840\n",
      "140185048378320\n",
      "Result of function call: 22\n",
      "140185048377744, 140185048377840\n"
     ]
    }
   ],
   "source": [
    "def f(x, y):\n",
    "    z = 2 * (x + y)\n",
    "    print(id(x))\n",
    "    print(id(y))\n",
    "    print(id(z))\n",
    "    return z\n",
    "\n",
    "print(\"Program starts!\")\n",
    "a = 3\n",
    "res1 = f(a, 2+a)\n",
    "print(\"Result of function call:\", res1)\n",
    "print(f\"{id(a)}, {id(a+2)}\")\n",
    "a = 4\n",
    "b = 7\n",
    "res2 = f(a, b)\n",
    "print(\"Result of function call:\", res2)\n",
    "print(f\"{id(a)}, {id(b)}\")"
   ]
  },
  {
   "cell_type": "markdown",
   "metadata": {},
   "source": [
    "```python\n",
    "def function-name(Parameter list):\n",
    "    statements, i.e. the function body\n",
    "```\n",
    "Parameters are called arguments, if the function is called."
   ]
  },
  {
   "cell_type": "code",
   "execution_count": 3,
   "metadata": {},
   "outputs": [
    {
     "name": "stdout",
     "output_type": "stream",
     "text": [
      "22.6 :  72.68\n",
      "25.8 :  78.44\n",
      "27.3 :  81.14\n",
      "29.8 :  85.64\n",
      "Help on function fahrenheit in module __main__:\n",
      "\n",
      "fahrenheit(T_in_celsius)\n",
      "    returns the temperature in degrees Fahrenheit\n",
      "\n"
     ]
    }
   ],
   "source": [
    "def fahrenheit(T_in_celsius):\n",
    "    \"\"\" returns the temperature in degrees Fahrenheit \"\"\"\n",
    "    return (T_in_celsius * 9 / 5) + 32\n",
    "for t in (22.6, 25.8, 27.3, 29.8):\n",
    "    print(t, \": \", fahrenheit(t))\n",
    "help(fahrenheit)"
   ]
  },
  {
   "cell_type": "code",
   "execution_count": 4,
   "metadata": {},
   "outputs": [
    {
     "data": {
      "text/plain": [
       "('Hello Peter!', 'Hello everybody!')"
      ]
     },
     "execution_count": 4,
     "metadata": {},
     "output_type": "execute_result"
    }
   ],
   "source": [
    "def hello(name=\"everybody\"):\n",
    "    \"\"\" Greets a person \"\"\"\n",
    "    result = \"Hello \" + name + \"!\"\n",
    "    return result\n",
    "\n",
    "hello(\"Peter\"), hello()"
   ]
  },
  {
   "cell_type": "markdown",
   "metadata": {},
   "source": [
    "Default values are created exactly once, when the function is defined, i.e. at compile-time."
   ]
  },
  {
   "cell_type": "code",
   "execution_count": 5,
   "metadata": {},
   "outputs": [
    {
     "name": "stdout",
     "output_type": "stream",
     "text": [
      "spammer.__defaults__ ([],)\n",
      "Before assignment: 140183707372416\n",
      "After assignment: 140183707372416\n",
      "['spam']\n",
      "Before assignment: 140183707372416\n",
      "After assignment: 140183707372416\n",
      "['spam', 'spam']\n",
      "Before assignment: 140183707372416\n",
      "After assignment: 140183707372416\n",
      "['spam', 'spam', 'spam']\n",
      "Before assignment: 140183707372416\n",
      "After assignment: 140183707372416\n",
      "['spam', 'spam', 'spam', 'spam']\n",
      "Before assignment: 140183707372416\n",
      "After assignment: 140183707372416\n",
      "['spam', 'spam', 'spam', 'spam', 'spam']\n",
      "spammer.__defaults__ (['spam', 'spam', 'spam', 'spam', 'spam'],)\n"
     ]
    }
   ],
   "source": [
    "def spammer(bag=[]):\n",
    "    print(f\"Before assignment: {id(bag)}\")\n",
    "    bag.append(\"spam\")\n",
    "    print(f\"After assignment: {id(bag)}\")\n",
    "    return bag\n",
    "print(\"spammer.__defaults__\", spammer.__defaults__)\n",
    "\n",
    "for i in range(5):\n",
    "    print(spammer())    \n",
    "print(\"spammer.__defaults__\", spammer.__defaults__)"
   ]
  },
  {
   "cell_type": "code",
   "execution_count": 6,
   "metadata": {},
   "outputs": [
    {
     "name": "stdout",
     "output_type": "stream",
     "text": [
      "Before assignment: 4335455200 which is None postion\n",
      "After assignment: 140183707382336\n",
      "['spam']\n",
      "Before assignment: 4335455200 which is None postion\n",
      "After assignment: 140183707382336\n",
      "['spam']\n",
      "Before assignment: 4335455200 which is None postion\n",
      "After assignment: 140183707382336\n",
      "['spam']\n",
      "Before assignment: 4335455200 which is None postion\n",
      "After assignment: 140183707382336\n",
      "['spam']\n",
      "Before assignment: 4335455200 which is None postion\n",
      "After assignment: 140183707382336\n",
      "['spam']\n",
      "spammer.__defaults__ (None,)\n"
     ]
    }
   ],
   "source": [
    "def spammer(bag=None):\n",
    "    print(f\"Before assignment: {id(bag)} which is None postion\")\n",
    "    if bag is None:\n",
    "        bag = []\n",
    "    bag.append(\"spam\")\n",
    "    print(f\"After assignment: {id(bag)}\")\n",
    "    return bag\n",
    "\n",
    "for i in range(5):\n",
    "    print(spammer())\n",
    "    \n",
    "print(\"spammer.__defaults__\", spammer.__defaults__)"
   ]
  },
  {
   "cell_type": "code",
   "execution_count": 7,
   "metadata": {},
   "outputs": [
    {
     "name": "stdout",
     "output_type": "stream",
     "text": [
      "arithmetic_mean.__defaults__ None\n",
      "61.0\n",
      "42502.3275\n",
      "38.5\n",
      "45.0\n"
     ]
    }
   ],
   "source": [
    "def arithmetic_mean(first, *values):\n",
    "    \"\"\" This function calculates the arithmetic mean of a non-empty\n",
    "        arbitrary number of numerical values \"\"\"\n",
    "\n",
    "    return (first + sum(values)) / (1 + len(values))\n",
    "print(\"arithmetic_mean.__defaults__\", arithmetic_mean.__defaults__)\n",
    "print(arithmetic_mean(45,32,89,78))\n",
    "print(arithmetic_mean(8989.8,78787.78,3453,78778.73))\n",
    "print(arithmetic_mean(45,32))\n",
    "print(arithmetic_mean(45))"
   ]
  },
  {
   "cell_type": "code",
   "execution_count": 8,
   "metadata": {},
   "outputs": [
    {
     "name": "stdout",
     "output_type": "stream",
     "text": [
      "<class 'dict'>\n",
      "German\n",
      "{'de': 'German', 'en': 'English', 'fr': 'French'}\n"
     ]
    }
   ],
   "source": [
    "def f(**kwargs):\n",
    "    print(type(kwargs))\n",
    "    print(kwargs['de'])\n",
    "    print(kwargs)\n",
    "f(de=\"German\",en=\"English\",fr=\"French\")"
   ]
  },
  {
   "cell_type": "code",
   "execution_count": 9,
   "metadata": {},
   "outputs": [
    {
     "name": "stdout",
     "output_type": "stream",
     "text": [
      "append block extract yes\n"
     ]
    }
   ],
   "source": [
    "def f(a, b, x, y):\n",
    "    print(a, b, x, y)\n",
    "d = {'a':'append', 'b':'block','x':'extract','y':'yes'}\n",
    "f(**d)"
   ]
  },
  {
   "cell_type": "code",
   "execution_count": 10,
   "metadata": {},
   "outputs": [
    {
     "name": "stdout",
     "output_type": "stream",
     "text": [
      "['London', 'Leeds', 'Glasgow', 'Sheffield']\n",
      "['London', 'Leeds', 'Glasgow', 'Sheffield', 'Birmingham', 'Bradford']\n",
      "['London', 'Leeds', 'Glasgow', 'Sheffield']\n"
     ]
    }
   ],
   "source": [
    "def no_side_effects(cities):\n",
    "    print(cities)\n",
    "    cities = cities + [\"Birmingham\", \"Bradford\"]\n",
    "    print(cities)\n",
    "locations = [\"London\", \"Leeds\", \"Glasgow\", \"Sheffield\"]\n",
    "no_side_effects(locations)\n",
    "print(locations)"
   ]
  },
  {
   "cell_type": "code",
   "execution_count": 11,
   "metadata": {},
   "outputs": [
    {
     "name": "stdout",
     "output_type": "stream",
     "text": [
      "['London', 'Leeds', 'Glasgow', 'Sheffield']\n",
      "['London', 'Leeds', 'Glasgow', 'Sheffield', 'Birmingham', 'Bradford']\n",
      "['London', 'Leeds', 'Glasgow', 'Sheffield', 'Birmingham', 'Bradford']\n"
     ]
    }
   ],
   "source": [
    "def side_effects(cities):\n",
    "    print(cities)\n",
    "    cities += [\"Birmingham\", \"Bradford\"]\n",
    "    print(cities)\n",
    " \n",
    "locations = [\"London\", \"Leeds\", \"Glasgow\", \"Sheffield\"]\n",
    "side_effects(locations)\n",
    "print(locations)"
   ]
  },
  {
   "cell_type": "code",
   "execution_count": 12,
   "metadata": {},
   "outputs": [
    {
     "name": "stdout",
     "output_type": "stream",
     "text": [
      "['Lyon', 'Toulouse', 'Nice', 'Nantes', 'Strasbourg']\n",
      "['Lyon', 'Toulouse', 'Nice', 'Nantes', 'Strasbourg', 'Paris', 'Marseille']\n",
      "['Lyon', 'Toulouse', 'Nice', 'Nantes', 'Strasbourg']\n"
     ]
    },
    {
     "data": {
      "text/plain": [
       "(140184516758912, 140183707370560)"
      ]
     },
     "execution_count": 12,
     "metadata": {},
     "output_type": "execute_result"
    }
   ],
   "source": [
    "def side_effects(cities):\n",
    "    print(cities)\n",
    "    cities += [\"Paris\", \"Marseille\"]\n",
    "    print(cities)\n",
    " \n",
    "locations = [\"Lyon\", \"Toulouse\", \"Nice\", \"Nantes\", \"Strasbourg\"]\n",
    "side_effects(locations[:])\n",
    "print(locations)\n",
    "id(locations), id(locations[:])"
   ]
  },
  {
   "cell_type": "code",
   "execution_count": 13,
   "metadata": {},
   "outputs": [
    {
     "name": "stdout",
     "output_type": "stream",
     "text": [
      "<class 'tuple'>\n",
      "Paris ()\n",
      "<class 'tuple'>\n",
      "Paris ('Strasbourg', 'Lyon', 'Dijon', 'Bordeaux', 'Marseille')\n"
     ]
    }
   ],
   "source": [
    "def locations(city, *other_cities):\n",
    "    print(type(other_cities))\n",
    "    print(city, other_cities)\n",
    "locations(\"Paris\")\n",
    "locations(\"Paris\", \"Strasbourg\", \"Lyon\", \"Dijon\", \"Bordeaux\", \"Marseille\")"
   ]
  },
  {
   "cell_type": "code",
   "execution_count": 14,
   "metadata": {},
   "outputs": [
    {
     "name": "stdout",
     "output_type": "stream",
     "text": [
      "47 11 12\n"
     ]
    }
   ],
   "source": [
    "def f(x,y,z):\n",
    "    print(x,y,z)\n",
    "p = (47,11,12)\n",
    "f(*p)"
   ]
  },
  {
   "cell_type": "code",
   "execution_count": 65,
   "metadata": {},
   "outputs": [
    {
     "name": "stdout",
     "output_type": "stream",
     "text": [
      "German\n",
      "{'de': 'German', 'en': 'English', 'fr': 'French'}\n",
      "German\n",
      "{'de': 'German', 'en': 'English', 'fr': 'French'}\n"
     ]
    }
   ],
   "source": [
    "def f(**args):\n",
    "    print(args['de'])\n",
    "    print(args)\n",
    "f(de=\"German\",en=\"English\",fr=\"French\")\n",
    "dic = {'de':\"German\",'en':\"English\",'fr':\"French\"}\n",
    "f(**dic)"
   ]
  },
  {
   "cell_type": "code",
   "execution_count": 70,
   "metadata": {},
   "outputs": [
    {
     "name": "stdout",
     "output_type": "stream",
     "text": [
      "((1, 2, 3), {'1': 22, '2': 33})\n",
      "{}\n",
      "(1, 2, 3)\n",
      "{'1': 22, '2': 33}\n"
     ]
    }
   ],
   "source": [
    "def all_case(*l, **m):\n",
    "    print(l)\n",
    "    print(m)\n",
    "all_case((1,2,3), {'1':22, '2':33})\n",
    "q = (1,2,3)\n",
    "k = {'1':22, '2':33}\n",
    "all_case(*q, **k)"
   ]
  },
  {
   "cell_type": "code",
   "execution_count": 93,
   "metadata": {},
   "outputs": [
    {
     "name": "stdout",
     "output_type": "stream",
     "text": [
      "a, b:12,13\n",
      "x, y:17,18\n",
      "(1, 2, 3)\n",
      "{'de': 1, 'dl': 2}\n",
      "a, b:12,3\n",
      "x, y:1,12\n",
      "(32, 14, 15, 16)\n",
      "{'ll': 'xxx', 'lll': 'yyy'}\n"
     ]
    }
   ],
   "source": [
    "def all_case(a, b, x, y, *l, **m):\n",
    "    print(f\"a, b:{a},{b}\")\n",
    "    print(f\"x, y:{x},{y}\")\n",
    "    print(l)\n",
    "    print(m)\n",
    "q = (12, 32, 14, 15, 16)\n",
    "w = {'ll':'xxx', 'lll':'yyy'}\n",
    "all_case(12,13, 17, 18, 1,2,3, de=1, dl=2)\n",
    "all_case(12,3,1,*q, **w)"
   ]
  },
  {
   "cell_type": "code",
   "execution_count": 16,
   "metadata": {},
   "outputs": [
    {
     "name": "stdout",
     "output_type": "stream",
     "text": [
      "append block extract yes\n"
     ]
    }
   ],
   "source": [
    "def f(a,b,x,y):\n",
    "    print(a,b,x,y)\n",
    "\n",
    "d = {'a':'append', 'b':'block','x':'extract','y':'yes'}\n",
    "f(**d)"
   ]
  },
  {
   "cell_type": "code",
   "execution_count": 17,
   "metadata": {},
   "outputs": [
    {
     "name": "stdout",
     "output_type": "stream",
     "text": [
      "47 11 extract yes\n"
     ]
    }
   ],
   "source": [
    "t = (47,11)\n",
    "d = {'x':'extract','y':'yes'}\n",
    "f(*t, **d)"
   ]
  },
  {
   "cell_type": "markdown",
   "metadata": {},
   "source": [
    "```python\n",
    "def arithmetic_mean(*l):\n",
    "    \"\"\" The function calculates the arithmetic mean of a non-empty\n",
    "        arbitrary number of numbers \"\"\"\n",
    "    for i in l:\n",
    "        sum += i\n",
    "\n",
    "    return sum / (1.0 + len(l))\n",
    "arithmetic_mean()\n",
    "```\n",
    "compile error"
   ]
  },
  {
   "cell_type": "code",
   "execution_count": 62,
   "metadata": {},
   "outputs": [
    {
     "data": {
      "text/plain": [
       "4.0"
      ]
     },
     "execution_count": 62,
     "metadata": {},
     "output_type": "execute_result"
    }
   ],
   "source": [
    "def arithmetic_mean(x, *l):\n",
    "    \"\"\" The function calculates the arithmetic mean of a non-empty\n",
    "        arbitrary number of numbers \"\"\"\n",
    "    sum = x\n",
    "    for i in l:\n",
    "        sum += i\n",
    "\n",
    "    return sum / (1.0 + len(l))\n",
    "arithmetic_mean(1,2,3,4,5,6,7)"
   ]
  },
  {
   "cell_type": "code",
   "execution_count": 63,
   "metadata": {},
   "outputs": [
    {
     "data": {
      "text/plain": [
       "4.0"
      ]
     },
     "execution_count": 63,
     "metadata": {},
     "output_type": "execute_result"
    }
   ],
   "source": [
    "l = (1,2,3,5,6,7)\n",
    "arithmetic_mean(*l)"
   ]
  },
  {
   "cell_type": "markdown",
   "metadata": {},
   "source": [
    "## Module Programming"
   ]
  },
  {
   "cell_type": "code",
   "execution_count": 20,
   "metadata": {},
   "outputs": [],
   "source": [
    "import math"
   ]
  },
  {
   "cell_type": "code",
   "execution_count": 21,
   "metadata": {},
   "outputs": [
    {
     "data": {
      "text/plain": [
       "(3.141592653589793, 1.0, 6.123233995736766e-17)"
      ]
     },
     "execution_count": 21,
     "metadata": {},
     "output_type": "execute_result"
    }
   ],
   "source": [
    "math.pi, math.sin(math.pi/2), math.cos(math.pi/2)"
   ]
  },
  {
   "cell_type": "code",
   "execution_count": 22,
   "metadata": {},
   "outputs": [
    {
     "data": {
      "text/plain": [
       "2.2968833711382604"
      ]
     },
     "execution_count": 22,
     "metadata": {},
     "output_type": "execute_result"
    }
   ],
   "source": [
    "from math import *\n",
    "sin(3.01) + tan(cos(2.1)) + e"
   ]
  },
  {
   "cell_type": "code",
   "execution_count": 23,
   "metadata": {},
   "outputs": [
    {
     "data": {
      "text/plain": [
       "13"
      ]
     },
     "execution_count": 23,
     "metadata": {},
     "output_type": "execute_result"
    }
   ],
   "source": [
    "import fibonacci\n",
    "fibonacci.fib(7)"
   ]
  },
  {
   "cell_type": "code",
   "execution_count": 24,
   "metadata": {},
   "outputs": [
    {
     "data": {
      "text/plain": [
       "354224848179261915075"
      ]
     },
     "execution_count": 24,
     "metadata": {},
     "output_type": "execute_result"
    }
   ],
   "source": [
    "fib = fibonacci.ifib\n",
    "fib(100)"
   ]
  },
  {
   "cell_type": "code",
   "execution_count": 25,
   "metadata": {},
   "outputs": [
    {
     "name": "stdout",
     "output_type": "stream",
     "text": [
      "The module is imported now!\n"
     ]
    }
   ],
   "source": [
    "import one_time"
   ]
  },
  {
   "cell_type": "code",
   "execution_count": 26,
   "metadata": {},
   "outputs": [
    {
     "data": {
      "text/plain": [
       "(140183707083776, 140183707074816)"
      ]
     },
     "execution_count": 26,
     "metadata": {},
     "output_type": "execute_result"
    }
   ],
   "source": [
    "x=[0,9,8]\n",
    "y=[0,9,8]\n",
    "id(x), id(y)"
   ]
  },
  {
   "cell_type": "code",
   "execution_count": 27,
   "metadata": {},
   "outputs": [
    {
     "data": {
      "text/plain": [
       "(140183706317360, 140183706317360)"
      ]
     },
     "execution_count": 27,
     "metadata": {},
     "output_type": "execute_result"
    }
   ],
   "source": [
    "x=\"lolo\"\n",
    "y=\"lolo\"\n",
    "id(x), id(y)"
   ]
  },
  {
   "cell_type": "code",
   "execution_count": 28,
   "metadata": {},
   "outputs": [
    {
     "data": {
      "text/plain": [
       "(140183706966160, 140183706966576)"
      ]
     },
     "execution_count": 28,
     "metadata": {},
     "output_type": "execute_result"
    }
   ],
   "source": [
    "x=90.9\n",
    "y=90.9\n",
    "id(x), id(y)"
   ]
  },
  {
   "cell_type": "code",
   "execution_count": 29,
   "metadata": {},
   "outputs": [
    {
     "data": {
      "text/plain": [
       "(140185048568976, 140185048568976)"
      ]
     },
     "execution_count": 29,
     "metadata": {},
     "output_type": "execute_result"
    }
   ],
   "source": [
    "x=90\n",
    "y=90\n",
    "id(x), id(y)"
   ]
  },
  {
   "cell_type": "code",
   "execution_count": 35,
   "metadata": {},
   "outputs": [
    {
     "data": {
      "text/plain": [
       "139423224561697880139724382870407283950070256587697307264108962948325571622863290691557658876222521294125"
      ]
     },
     "execution_count": 35,
     "metadata": {},
     "output_type": "execute_result"
    }
   ],
   "source": [
    "from fibonacci import fib, ifib\n",
    "ifib(500)"
   ]
  },
  {
   "cell_type": "code",
   "execution_count": 36,
   "metadata": {},
   "outputs": [
    {
     "data": {
      "text/plain": [
       "8.0"
      ]
     },
     "execution_count": 36,
     "metadata": {},
     "output_type": "execute_result"
    }
   ],
   "source": [
    "from math import pi,pow as power, sin as sinus\n",
    "power(2,3)"
   ]
  },
  {
   "cell_type": "code",
   "execution_count": 40,
   "metadata": {},
   "outputs": [
    {
     "name": "stdout",
     "output_type": "stream",
     "text": [
      "('_abc', '_ast', '_codecs', '_collections', '_functools', '_imp', '_io', '_locale', '_operator', '_peg_parser', '_signal', '_sre', '_stat', '_string', '_symtable', '_thread', '_tracemalloc', '_warnings', '_weakref', 'atexit', 'builtins', 'errno', 'faulthandler', 'gc', 'itertools', 'marshal', 'posix', 'pwd', 'sys', 'time', 'xxsubtype')\n"
     ]
    }
   ],
   "source": [
    "import sys\n",
    "print(sys.builtin_module_names)"
   ]
  },
  {
   "cell_type": "code",
   "execution_count": 45,
   "metadata": {},
   "outputs": [
    {
     "data": {
      "text/plain": [
       "['__builtins__',\n",
       " '__cached__',\n",
       " '__doc__',\n",
       " '__file__',\n",
       " '__loader__',\n",
       " '__name__',\n",
       " '__package__',\n",
       " '__spec__']"
      ]
     },
     "execution_count": 45,
     "metadata": {},
     "output_type": "execute_result"
    }
   ],
   "source": [
    "dir(one_time)"
   ]
  },
  {
   "cell_type": "markdown",
   "metadata": {},
   "source": [
    "## Pandas DataFrame"
   ]
  },
  {
   "cell_type": "code",
   "execution_count": 30,
   "metadata": {},
   "outputs": [],
   "source": [
    "import pandas as pd"
   ]
  },
  {
   "cell_type": "code",
   "execution_count": 31,
   "metadata": {},
   "outputs": [
    {
     "data": {
      "text/html": [
       "<div>\n",
       "<style scoped>\n",
       "    .dataframe tbody tr th:only-of-type {\n",
       "        vertical-align: middle;\n",
       "    }\n",
       "\n",
       "    .dataframe tbody tr th {\n",
       "        vertical-align: top;\n",
       "    }\n",
       "\n",
       "    .dataframe thead th {\n",
       "        text-align: right;\n",
       "    }\n",
       "</style>\n",
       "<table border=\"1\" class=\"dataframe\">\n",
       "  <thead>\n",
       "    <tr style=\"text-align: right;\">\n",
       "      <th></th>\n",
       "      <th>stock</th>\n",
       "      <th>price</th>\n",
       "      <th>quality</th>\n",
       "    </tr>\n",
       "  </thead>\n",
       "  <tbody>\n",
       "    <tr>\n",
       "      <th>apple</th>\n",
       "      <td>10</td>\n",
       "      <td>10.20</td>\n",
       "      <td>good</td>\n",
       "    </tr>\n",
       "    <tr>\n",
       "      <th>orange</th>\n",
       "      <td>3</td>\n",
       "      <td>3.90</td>\n",
       "      <td>bad</td>\n",
       "    </tr>\n",
       "    <tr>\n",
       "      <th>banana</th>\n",
       "      <td>22</td>\n",
       "      <td>2.19</td>\n",
       "      <td>average</td>\n",
       "    </tr>\n",
       "    <tr>\n",
       "      <th>cucumber</th>\n",
       "      <td>1</td>\n",
       "      <td>76.20</td>\n",
       "      <td>nice</td>\n",
       "    </tr>\n",
       "    <tr>\n",
       "      <th>potato</th>\n",
       "      <td>110</td>\n",
       "      <td>10.99</td>\n",
       "      <td>perfect</td>\n",
       "    </tr>\n",
       "  </tbody>\n",
       "</table>\n",
       "</div>"
      ],
      "text/plain": [
       "          stock  price  quality\n",
       "apple        10  10.20     good\n",
       "orange        3   3.90      bad\n",
       "banana       22   2.19  average\n",
       "cucumber      1  76.20     nice\n",
       "potato      110  10.99  perfect"
      ]
     },
     "execution_count": 31,
     "metadata": {},
     "output_type": "execute_result"
    }
   ],
   "source": [
    "stock = pd.Series({\n",
    "    'apple': 10,\n",
    "    'orange': 3,\n",
    "    'banana': 22,\n",
    "    'cucumber': 1,\n",
    "    'potato': 110\n",
    "})\n",
    "price = pd.Series({\n",
    "    'apple': 10.2,\n",
    "    'orange': 3.9,\n",
    "    'banana': 2.19,\n",
    "    'cucumber': 76.2,\n",
    "    'potato': 10.99\n",
    "})\n",
    "quality = pd.Series({\n",
    "    'apple': 'good',\n",
    "    'orange': 'bad',\n",
    "    'banana': 'average',\n",
    "    'cucumber': 'nice',\n",
    "    'potato': 'perfect'\n",
    "})\n",
    "shop = pd.DataFrame({'stock': stock, 'price': price, 'quality': quality})\n",
    "shop"
   ]
  },
  {
   "cell_type": "code",
   "execution_count": 32,
   "metadata": {},
   "outputs": [
    {
     "data": {
      "text/plain": [
       "(Index(['apple', 'orange', 'banana', 'cucumber', 'potato'], dtype='object'),\n",
       " Index(['stock', 'price', 'quality'], dtype='object'))"
      ]
     },
     "execution_count": 32,
     "metadata": {},
     "output_type": "execute_result"
    }
   ],
   "source": [
    "shop.index, shop.columns"
   ]
  },
  {
   "cell_type": "code",
   "execution_count": 33,
   "metadata": {},
   "outputs": [
    {
     "name": "stdout",
     "output_type": "stream",
     "text": [
      "          stock  price  quality\n",
      "orange        3   3.90      bad\n",
      "banana       22   2.19  average\n",
      "cucumber      1  76.20     nice\n",
      "potato      110  10.99  perfect\n",
      "          stock  price  quality\n",
      "orange        3   3.90      bad\n",
      "banana       22   2.19  average\n",
      "cucumber      1  76.20     nice\n",
      "potato      110  10.99  perfect\n"
     ]
    }
   ],
   "source": [
    "print(shop.loc['orange':'potato'])\n",
    "print(shop.iloc[1:])"
   ]
  },
  {
   "cell_type": "code",
   "execution_count": 34,
   "metadata": {},
   "outputs": [
    {
     "data": {
      "text/html": [
       "<div>\n",
       "<style scoped>\n",
       "    .dataframe tbody tr th:only-of-type {\n",
       "        vertical-align: middle;\n",
       "    }\n",
       "\n",
       "    .dataframe tbody tr th {\n",
       "        vertical-align: top;\n",
       "    }\n",
       "\n",
       "    .dataframe thead th {\n",
       "        text-align: right;\n",
       "    }\n",
       "</style>\n",
       "<table border=\"1\" class=\"dataframe\">\n",
       "  <thead>\n",
       "    <tr style=\"text-align: right;\">\n",
       "      <th></th>\n",
       "      <th>stock</th>\n",
       "      <th>price</th>\n",
       "      <th>quality</th>\n",
       "    </tr>\n",
       "  </thead>\n",
       "  <tbody>\n",
       "    <tr>\n",
       "      <th>orange</th>\n",
       "      <td>3</td>\n",
       "      <td>3.90</td>\n",
       "      <td>bad</td>\n",
       "    </tr>\n",
       "    <tr>\n",
       "      <th>banana</th>\n",
       "      <td>22</td>\n",
       "      <td>2.19</td>\n",
       "      <td>average</td>\n",
       "    </tr>\n",
       "    <tr>\n",
       "      <th>cucumber</th>\n",
       "      <td>1</td>\n",
       "      <td>76.20</td>\n",
       "      <td>nice</td>\n",
       "    </tr>\n",
       "    <tr>\n",
       "      <th>potato</th>\n",
       "      <td>110</td>\n",
       "      <td>10.99</td>\n",
       "      <td>perfect</td>\n",
       "    </tr>\n",
       "  </tbody>\n",
       "</table>\n",
       "</div>"
      ],
      "text/plain": [
       "          stock  price  quality\n",
       "orange        3   3.90      bad\n",
       "banana       22   2.19  average\n",
       "cucumber      1  76.20     nice\n",
       "potato      110  10.99  perfect"
      ]
     },
     "execution_count": 34,
     "metadata": {},
     "output_type": "execute_result"
    }
   ],
   "source": [
    "shop['orange':'potato']"
   ]
  },
  {
   "cell_type": "markdown",
   "metadata": {},
   "source": [
    "## Matplotlib"
   ]
  },
  {
   "cell_type": "code",
   "execution_count": 46,
   "metadata": {},
   "outputs": [],
   "source": [
    "import matplotlib as mpl\n",
    "import matplotlib.pyplot as plt\n",
    "import numpy as np"
   ]
  },
  {
   "cell_type": "code",
   "execution_count": 48,
   "metadata": {},
   "outputs": [
    {
     "data": {
      "image/png": "[encoded data removed]",
      "text/plain": [
       "<Figure size 432x288 with 1 Axes>"
      ]
     },
     "metadata": {
      "needs_background": "light"
     },
     "output_type": "display_data"
    }
   ],
   "source": [
    "fig, ax = plt.subplots()  # Create a figure containing a single axes.\n",
    "ax.plot([1, 2, 3, 4], [1, 4, 2, 3]);  # Plot some data on the axes."
   ]
  },
  {
   "cell_type": "markdown",
   "metadata": {},
   "source": [
    "<img src=\"imgs/anatomy.jpg\" alt=\"drawing\" style=\"width:500px;\"/>"
   ]
  },
  {
   "cell_type": "code",
   "execution_count": 52,
   "metadata": {},
   "outputs": [
    {
     "data": {
      "image/png": "[encoded data removed]",
      "text/plain": [
       "<Figure size 360x194.4 with 1 Axes>"
      ]
     },
     "metadata": {
      "needs_background": "light"
     },
     "output_type": "display_data"
    }
   ],
   "source": [
    "x = np.linspace(0, 2, 100)  # Sample data.\n",
    "\n",
    "# Note that even in the OO-style, we use `.pyplot.figure` to create the Figure.\n",
    "fig, ax = plt.subplots(figsize=(5, 2.7), layout='constrained')\n",
    "ax.plot(x, x, label='linear')  # Plot some data on the axes.\n",
    "ax.plot(x, x**2, label='quadratic')  # Plot more data on the axes...\n",
    "ax.plot(x, x**3, label='cubic')  # ... and some more.\n",
    "ax.set_xlabel('x label')  # Add an x-label to the axes.\n",
    "ax.set_ylabel('y label')  # Add a y-label to the axes.\n",
    "ax.set_title(\"Simple Plot\")  # Add a title to the axes.\n",
    "ax.legend();  # Add a legend."
   ]
  },
  {
   "cell_type": "code",
   "execution_count": 53,
   "metadata": {},
   "outputs": [
    {
     "data": {
      "image/png": "[encoded data removed]",
      "text/plain": [
       "<Figure size 360x194.4 with 1 Axes>"
      ]
     },
     "metadata": {
      "needs_background": "light"
     },
     "output_type": "display_data"
    }
   ],
   "source": [
    "x = np.linspace(0, 2, 100)  # Sample data.\n",
    "\n",
    "plt.figure(figsize=(5, 2.7), layout='constrained')\n",
    "plt.plot(x, x, label='linear')  # Plot some data on the (implicit) axes.\n",
    "plt.plot(x, x**2, label='quadratic')  # etc.\n",
    "plt.plot(x, x**3, label='cubic')\n",
    "plt.xlabel('x label')\n",
    "plt.ylabel('y label')\n",
    "plt.title(\"Simple Plot\")\n",
    "plt.legend();"
   ]
  },
  {
   "cell_type": "code",
   "execution_count": null,
   "metadata": {},
   "outputs": [],
   "source": []
  }
 ],
 "metadata": {
  "interpreter": {
   "hash": "c71e970b376e5910de56d332af36cb508b823811ace826c2f1193ceeb2dcc3e7"
  },
  "kernelspec": {
   "display_name": "Python 3.9.12 ('torchenv')",
   "language": "python",
   "name": "python3"
  },
  "language_info": {
   "codemirror_mode": {
    "name": "ipython",
    "version": 3
   },
   "file_extension": ".py",
   "mimetype": "text/x-python",
   "name": "python",
   "nbconvert_exporter": "python",
   "pygments_lexer": "ipython3",
   "version": "3.9.12"
  },
  "latex_envs": {
   "LaTeX_envs_menu_present": true,
   "autoclose": true,
   "autocomplete": true,
   "bibliofile": "biblio.bib",
   "cite_by": "apalike",
   "current_citInitial": 1,
   "eqLabelWithNumbers": true,
   "eqNumInitial": 1,
   "hotkeys": {
    "equation": "Ctrl-E",
    "itemize": "Ctrl-I"
   },
   "labels_anchors": false,
   "latex_user_defs": false,
   "report_style_numbering": false,
   "user_envs_cfg": false
  }
 },
 "nbformat": 4,
 "nbformat_minor": 2
}
